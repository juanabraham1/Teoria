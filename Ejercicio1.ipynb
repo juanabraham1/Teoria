{
 "cells": [
  {
   "cell_type": "code",
   "execution_count": 64,
   "id": "687d5528",
   "metadata": {},
   "outputs": [],
   "source": [
    "import pandas as pd\n",
    "import numpy as np\n",
    "\n",
    "melbourne = pd.read_csv(\"temperature_Melbourne_celsius.csv\", delimiter=\";\")\n",
    "oslo = pd.read_csv(\"temperature_Oslo_celsius.csv\", delimiter=\";\")\n",
    "quito = pd.read_csv(\"temperature_Quito_celsius.csv\", delimiter=\";\")"
   ]
  },
  {
   "cell_type": "markdown",
   "id": "67439660",
   "metadata": {},
   "source": [
    "# Ejercicio 1A"
   ]
  },
  {
   "cell_type": "code",
   "execution_count": 65,
   "id": "26990d09",
   "metadata": {},
   "outputs": [
    {
     "name": "stdout",
     "output_type": "stream",
     "text": [
      "Media de Melbourne: 17.53°C\n",
      "Media de Oslo: 4.61°C\n",
      "Media de Quito: 13.60°C\n",
      "Desvío estándar de Melbourne: 6.48°C\n",
      "Desvío estándar de Oslo: 9.46°C\n",
      "Desvío estándar de Quito: 1.30°C\n"
     ]
    }
   ],
   "source": [
    "# Asegurar que la columna de temperatura sea la correcta\n",
    "columna_temperatura = \"AvgTemperature\"  # Cambia esto según el nombre de la columna en los archivos\n",
    "\n",
    "# Calcular la media y desviación estándar\n",
    "media_melbourne = melbourne[columna_temperatura].mean()\n",
    "media_oslo = oslo[columna_temperatura].mean()\n",
    "media_quito = quito[columna_temperatura].mean()\n",
    "\n",
    "desvio_melbourne = melbourne[columna_temperatura].std()\n",
    "desvio_oslo = oslo[columna_temperatura].std()\n",
    "desvio_quito = quito[columna_temperatura].std()\n",
    "\n",
    "# Mostrar los resultados con formato mejorado\n",
    "print(f\"Media de Melbourne: {media_melbourne:.2f}°C\")\n",
    "print(f\"Media de Oslo: {media_oslo:.2f}°C\")\n",
    "print(f\"Media de Quito: {media_quito:.2f}°C\")\n",
    "\n",
    "print(f\"Desvío estándar de Melbourne: {desvio_melbourne:.2f}°C\")\n",
    "print(f\"Desvío estándar de Oslo: {desvio_oslo:.2f}°C\")\n",
    "print(f\"Desvío estándar de Quito: {desvio_quito:.2f}°C\")"
   ]
  },
  {
   "cell_type": "markdown",
   "id": "ee5733bb",
   "metadata": {},
   "source": [
    "### 1 -B"
   ]
  },
  {
   "cell_type": "code",
   "execution_count": 66,
   "id": "0987a39f",
   "metadata": {},
   "outputs": [
    {
     "name": "stdout",
     "output_type": "stream",
     "text": [
      "Correlación entre Oslo y Melbourne: 624455.00\n",
      "Correlación entre Oslo y Quito: 376918.00\n",
      "Correlación entre quito y Melbourne: 1393015.00\n"
     ]
    }
   ],
   "source": [
    "from scipy.signal import correlate\n",
    "import numpy as np\n",
    "\n",
    "x = oslo[columna_temperatura].values\n",
    "y = melbourne[columna_temperatura].values\n",
    "\n",
    "corr = correlate(x, y, mode='full')\n",
    "print(f\"Correlación entre Oslo y Melbourne: {corr.max():.2f}\")\n",
    "\n",
    "x = oslo[columna_temperatura].values\n",
    "y = quito[columna_temperatura].values\n",
    "\n",
    "corr = correlate(x, y, mode='full')\n",
    "print(f\"Correlación entre Oslo y Quito: {corr.max():.2f}\")\n",
    "\n",
    "x = quito[columna_temperatura].values\n",
    "y = melbourne[columna_temperatura].values\n",
    "\n",
    "corr = correlate(x, y, mode='full')\n",
    "print(f\"Correlación entre quito y Melbourne: {corr.max():.2f}\")\n"
   ]
  },
  {
   "cell_type": "markdown",
   "id": "aec38320",
   "metadata": {},
   "source": [
    "Analizando los resultados obtenidos observamos que entre oslo y cualquir otra ciudad no hay tremperatura climatica similar, en cambio entre Quito y Merburne hay una mayor correlacion por lo que hay una similitud, lo cual tiene sentido observando las medias.\n",
    "\n",
    "## 2.\n",
    "### Considerando los valores de temperatura t que componen cada señal Si, construir una nueva señal Ti  compuesta por una secuencia de símbolos discretos F, T o C, definidos según: "
   ]
  },
  {
   "cell_type": "code",
   "execution_count": 67,
   "id": "eca810c4",
   "metadata": {},
   "outputs": [],
   "source": [
    "\n",
    "def clasificar_temperatura(t):\n",
    "    if t < 11:\n",
    "        return 'F'\n",
    "    elif t < 19:\n",
    "        return 'T'\n",
    "    else:\n",
    "        return 'C'\n",
    "\n",
    "for df in [oslo, quito, melbourne]:\n",
    "    df['Clima'] = df[columna_temperatura].apply(clasificar_temperatura)\n",
    "\n"
   ]
  },
  {
   "cell_type": "markdown",
   "id": "63360038",
   "metadata": {},
   "source": [
    "#### Parte 1"
   ]
  },
  {
   "cell_type": "code",
   "execution_count": 68,
   "id": "9c660bba",
   "metadata": {},
   "outputs": [
    {
     "name": "stdout",
     "output_type": "stream",
     "text": [
      "Distribución de probabilidad de Oslo:\n",
      "[[0.959 0.099 0.   ]\n",
      " [0.041 0.865 0.296]\n",
      " [0.    0.035 0.704]]\n",
      "--------------------------------------------\n",
      "Distribución de probabilidad de Quito:\n",
      "[[0.054 0.006 0.   ]\n",
      " [0.946 0.993 1.   ]\n",
      " [0.    0.001 0.   ]]\n",
      "--------------------------------------------\n",
      "Distribución de probabilidad de Melbourne:\n",
      "[[0.47  0.033 0.003]\n",
      " [0.495 0.836 0.144]\n",
      " [0.035 0.131 0.853]]\n"
     ]
    }
   ],
   "source": [
    "def contar_climas(df):\n",
    "    conteo = df['Clima'].value_counts()\n",
    "    f =  conteo.get('F', 0) \n",
    "    t = conteo.get('T', 0)\n",
    "    c =  conteo.get('C', 0)\n",
    "    return f, t, c\n",
    "\n",
    "f_oslo, t_oslo, c_oslo = contar_climas(oslo)\n",
    "f_quito, t_quito, c_quito = contar_climas(quito)\n",
    "f_melbourne, t_melbourne, c_melbourne = contar_climas(melbourne)\n",
    "\n",
    "def contar_transiciones(df, origen):\n",
    "    \"\"\"\n",
    "    Cuenta cuántas veces después de 'origen' aparece cada letra ('F', 'T', 'C') en la columna 'Clima' del DataFrame.\n",
    "    Retorna un diccionario con el conteo de transiciones.\n",
    "    \"\"\"\n",
    "    clima = df['Clima'].values\n",
    "    transiciones = {'F': 0, 'T': 0, 'C': 0}\n",
    "    for i in range(len(clima) - 1):\n",
    "        if clima[i] == origen:\n",
    "            siguiente = clima[i + 1]\n",
    "            if siguiente in transiciones:\n",
    "                transiciones[siguiente] += 1\n",
    "    return transiciones\n",
    "\n",
    "def distribucion_probabilidad(df,f, t, c):\n",
    "    matriz = [[0,0,0],\n",
    "            [0,0,0],\n",
    "            [0,0,0]]\n",
    "    i = 0\n",
    "    for l in ['F', 'T', 'C']:\n",
    "        transiciones = contar_transiciones(df, l)\n",
    "        matriz[i][0] = round(transiciones['F']/f, 3)\n",
    "        matriz[i][1] = round(transiciones['T']/t, 3)\n",
    "        matriz[i][2] = round(transiciones['C']/c, 3)\n",
    "        i += 1\n",
    "    return np.array(matriz)   \n",
    "\n",
    "distribucion_oslo = distribucion_probabilidad(oslo, f_oslo, t_oslo, c_oslo)\n",
    "distribucion_quito = distribucion_probabilidad(quito, f_quito, t_quito, c_quito)\n",
    "distribucion_melbourne = distribucion_probabilidad(melbourne, f_melbourne, t_melbourne, c_melbourne)\n",
    "\n",
    "print(\"Distribución de probabilidad de Oslo:\")\n",
    "print(distribucion_oslo)\n",
    "print(\"--------------------------------------------\")\n",
    "print(\"Distribución de probabilidad de Quito:\")\n",
    "print(distribucion_quito)\n",
    "print(\"--------------------------------------------\")\n",
    "print(\"Distribución de probabilidad de Melbourne:\")\n",
    "print(distribucion_melbourne)\n"
   ]
  },
  {
   "cell_type": "markdown",
   "id": "c8da236d",
   "metadata": {},
   "source": [
    "#### Parte 2"
   ]
  },
  {
   "cell_type": "code",
   "execution_count": null,
   "id": "cb1e132b",
   "metadata": {},
   "outputs": [
    {
     "name": "stdout",
     "output_type": "stream",
     "text": [
      "[0.68583162 0.28062971 0.03353867]\n"
     ]
    }
   ],
   "source": [
    "def contarColumnas(df):\n",
    "    conteo = df['Clima'].value_counts()\n",
    "    f =  conteo.get('F', 0) \n",
    "    t = conteo.get('T', 0)\n",
    "    c =  conteo.get('C', 0)\n",
    "    return f+t+c\n",
    "\n",
    "def distribucion_probabilistica_estacionaria(df):\n",
    "    totalColumnas=contarColumnas(df)\n",
    "    f,t,c = contar_climas(df)\n",
    "    res = [f /totalColumnas, t / totalColumnas, c / totalColumnas]\n",
    "\n",
    "    return np.array(res, dtype=np.float64)\n",
    "\n",
    "distribucion_estacionaria_oslo = distribucion_probabilistica_estacionaria(oslo)\n",
    "print(distribucion_estacionaria_oslo)"
   ]
  },
  {
   "cell_type": "code",
   "execution_count": 70,
   "id": "64171240",
   "metadata": {},
   "outputs": [
    {
     "name": "stdout",
     "output_type": "stream",
     "text": [
      "Matriz acumulada de quito:\n",
      "[[0.054 0.006 0.   ]\n",
      " [1.    0.999 1.   ]\n",
      " [1.    1.    1.   ]]\n"
     ]
    }
   ],
   "source": [
    "def matriz_acumulada(matriz):\n",
    "    res = matriz.copy()\n",
    "    for i in range(0,len(matriz)): #i recorre las filas\n",
    "        for j in range(1, len(matriz[i])): # j recorre las columnas\n",
    "            res[j][i] += res[j-1][i]\n",
    "    return res\n",
    "\n",
    "acumulada_oslo = matriz_acumulada(distribucion_oslo)\n",
    "acumulada_quito = matriz_acumulada(distribucion_quito)\n",
    "acumulada_melbourne = matriz_acumulada(distribucion_melbourne)\n",
    "\n",
    "print(\"Matriz acumulada de quito:\")\n",
    "print(acumulada_quito)"
   ]
  },
  {
   "cell_type": "code",
   "execution_count": 71,
   "id": "8223c77e",
   "metadata": {},
   "outputs": [
    {
     "name": "stdout",
     "output_type": "stream",
     "text": [
      "Media de recurrencia de F en Quito: 164.33\n",
      "Media de recurrencia de T en Quito: 1.00\n",
      "Media de recurrencia de C en Quito: 968.94\n"
     ]
    },
    {
     "data": {
      "text/plain": [
       "'\\nprint(\"--------------------------------------------\")\\nprint(f\"Media de recurrencia de F en Melbourne: {MR_F_melbourne:.2f}\")\\nprint(f\"Media de recurrencia de T en Melbourne: {MR_T_melbourne:.2f}\")\\nprint(f\"Media de recurrencia de C en Melbourne: {MR_C_melbourne:.2f}\")\\n'"
      ]
     },
     "execution_count": 71,
     "metadata": {},
     "output_type": "execute_result"
    }
   ],
   "source": [
    "import random\n",
    "\n",
    "def Media_recurrencia(simbolo, matriz):\n",
    "    retornos= 0        # cantidad de retornos a si \n",
    "    media= 0          #media recurrencia actual    \n",
    "    media_ant= -1  # media recurrencia anterior    \n",
    "    t_actual= 0   \n",
    "    s= simbolo\n",
    "    while  not np.allclose(media, media_ant, atol=1e-3) or (t_actual<100) :\n",
    "        s= Sig_dado_Ant (s, matriz)\n",
    "        t_actual+=1\n",
    "        if ( s == simbolo ): #hay retorno \n",
    "            retornos+=1\n",
    "            media_ant = media\n",
    "            media= t_actual/retornos\n",
    "    return media\n",
    "\n",
    "def Sig_dado_Ant(simbolo, matriz):\n",
    "    r = random.random()\n",
    "    if simbolo == \"F\":\n",
    "        simbolo = 0\n",
    "    elif simbolo == \"T\":\n",
    "        simbolo = 1\n",
    "    else:\n",
    "        simbolo = 2\n",
    "\n",
    "    for i in range(3):\n",
    "        if ( r < matriz[i, simbolo]):\n",
    "            if(i==0):\n",
    "                return \"F\"\n",
    "            elif(i==1):\n",
    "                return \"T\"\n",
    "            else:\n",
    "                return \"C\"\n",
    "\"\"\"\n",
    "MR_F_oslo = Media_recurrencia(\"F\", acumulada_oslo)\n",
    "MR_T_oslo = Media_recurrencia(\"T\", acumulada_oslo)\n",
    "MR_C_oslo = Media_recurrencia(\"C\", acumulada_oslo)\n",
    "\"\"\"\n",
    "MR_F_quito = Media_recurrencia(\"F\", acumulada_quito)\n",
    "MR_T_quito = Media_recurrencia(\"T\", acumulada_quito)\n",
    "MR_C_quito = Media_recurrencia(\"C\", acumulada_quito)\n",
    "\"\"\"\n",
    "MR_F_melbourne = Media_recurrencia(\"F\", acumulada_melbourne)\n",
    "MR_T_melbourne = Media_recurrencia(\"T\", acumulada_melbourne)\n",
    "MR_C_melbourne = Media_recurrencia(\"C\", acumulada_melbourne)\n",
    "\n",
    "print(f\"Media de recurrencia de F en Oslo: {MR_F_oslo:.2f}\")\n",
    "print(f\"Media de recurrencia de T en Oslo: {MR_T_oslo:.2f}\")\n",
    "print(f\"Media de recurrencia de C en Oslo: {MR_C_oslo:.2f}\")\n",
    "\"\"\"\n",
    "\n",
    "print(f\"Media de recurrencia de F en Quito: {MR_F_quito:.2f}\")\n",
    "print(f\"Media de recurrencia de T en Quito: {MR_T_quito:.2f}\")\n",
    "print(f\"Media de recurrencia de C en Quito: {MR_C_quito:.2f}\")\n",
    "\"\"\"\n",
    "print(\"--------------------------------------------\")\n",
    "print(f\"Media de recurrencia de F en Melbourne: {MR_F_melbourne:.2f}\")\n",
    "print(f\"Media de recurrencia de T en Melbourne: {MR_T_melbourne:.2f}\")\n",
    "print(f\"Media de recurrencia de C en Melbourne: {MR_C_melbourne:.2f}\")\n",
    "\"\"\""
   ]
  },
  {
   "cell_type": "markdown",
   "id": "89895aad",
   "metadata": {},
   "source": [
    "Calcular la entropía de cada fuente Ti :\n",
    "sin memoria (orden 0), considerando símbolos individuales.\n",
    "con memoria (orden 1), usando información sobre transiciones entre símbolos.\n",
    "\n"
   ]
  },
  {
   "cell_type": "markdown",
   "id": "93c7a5a2",
   "metadata": {},
   "source": [
    "#### entropia sin memoria"
   ]
  },
  {
   "cell_type": "code",
   "execution_count": 72,
   "id": "84e1fe30",
   "metadata": {},
   "outputs": [
    {
     "name": "stdout",
     "output_type": "stream",
     "text": [
      "Entropía de Oslo: c\n",
      "Entropía de Quito: c\n",
      "Entropía de Melbourne: c\n"
     ]
    }
   ],
   "source": [
    "\n",
    "def entropia(df):\n",
    "    distribucion = distribucion_probabilistica_estacionaria(df)\n",
    "    entropia = -np.sum(distribucion * np.log2(distribucion))  # Añadir un pequeño valor para evitar log(0)\n",
    "    return entropia\n",
    "\n",
    "\n",
    "for df in [oslo, quito, melbourne]:\n",
    "    entopia = entropia(df)\n",
    "    nombre = \"Oslo\" if df is oslo else \"Quito\" if df is quito else \"Melbourne\"\n",
    "\n",
    "    print(f\"Entropía de {nombre}: c\")\n",
    "\n",
    "\n",
    "\n",
    "\n"
   ]
  },
  {
   "cell_type": "markdown",
   "id": "ecc5f03d",
   "metadata": {},
   "source": [
    "#### la ciudad con mayor entropia es melbourne esto indica que es la ciudad menos predecible de las tres, asi mismo la ciudad con menor entropia es quito inidcando que su clima es altamente predicible, lo cual tiene sentido si vemos la media de recurrencia donde prevalece el clima templado por sobre los demas."
   ]
  },
  {
   "cell_type": "markdown",
   "id": "185a0639",
   "metadata": {},
   "source": [
    "#### fuente con memoria"
   ]
  },
  {
   "cell_type": "code",
   "execution_count": 73,
   "id": "1ab80f23",
   "metadata": {},
   "outputs": [
    {
     "name": "stdout",
     "output_type": "stream",
     "text": [
      "entropia de oslo con memoria 1 = 0.3897\n",
      "entropia de quito con memoria 1 = 0.0658\n",
      "entropia de melbourne con memoria 1 = 0.7130\n"
     ]
    }
   ],
   "source": [
    "\n",
    "def entropia_matriz(matriz,df):\n",
    "    estacionario = distribucion_probabilistica_estacionaria(df) \n",
    "    entropia = 0\n",
    "    for i in range(matriz.shape[0]): \n",
    "        distribucion = matriz[:, i] # creo arreglo con la columna i\n",
    "        entropiaColumna = -np.sum(distribucion * np.log2(distribucion + 1e-10))  # Añadir un pequeño valor para evitar log(0)\n",
    "        entropia += entropiaColumna * estacionario[i]\n",
    "    \n",
    "    return entropia    \n",
    "\n",
    "print(f\"entropia de oslo con memoria 1 = {entropia_matriz(distribucion_oslo, oslo):.4f}\")\n",
    "print(f\"entropia de quito con memoria 1 = {entropia_matriz(distribucion_quito, quito):.4f}\")\n",
    "print(f\"entropia de melbourne con memoria 1 = {entropia_matriz(distribucion_melbourne, melbourne):.4f}\")\n"
   ]
  },
  {
   "cell_type": "code",
   "execution_count": 74,
   "id": "c16b8add",
   "metadata": {},
   "outputs": [],
   "source": [
    "\n",
    "import heapq  # Módulo para manejar colas de prioridad (heaps)\n",
    "\n",
    "class Nodo:\n",
    "    def __init__(self, simbolo=None, probabilidad=None):\n",
    "        self.simbolo = simbolo\n",
    "        self.probabilidad = probabilidad\n",
    "        self.izquierda = None\n",
    "        self.derecha = None\n",
    "\n",
    "    def __lt__(self, otro):\n",
    "        # Define cómo comparar nodos según su probabilidad\n",
    "        return self.probabilidad < otro.probabilidad\n",
    "\n",
    "def construir_arbol_huffman(simbolos, probabilidades):\n",
    "    # Crear una cola de prioridad con los símbolos y sus probabilidades\n",
    "    cola = [Nodo(s, p) for s, p in zip(simbolos, probabilidades)]\n",
    "    heapq.heapify(cola)\n",
    "    print(simbolos)\n",
    "    # Construir el árbol de Huffman\n",
    "    while len(cola) > 1:\n",
    "        # Sacar los dos nodos con menor probabilidad\n",
    "        nodo_izq = heapq.heappop(cola)\n",
    "        nodo_der = heapq.heappop(cola)\n",
    "        # Crear un nuevo nodo combinando los dos hijos\n",
    "        nodo_combinado = Nodo(probabilidad=nodo_izq.probabilidad + nodo_der.probabilidad)\n",
    "        nodo_combinado.izquierda = nodo_izq\n",
    "        nodo_combinado.derecha = nodo_der\n",
    "        # Volver a insertar el nodo combinado en la cola\n",
    "        heapq.heappush(cola, nodo_combinado)\n",
    "\n",
    "    # Devolver la raíz del árbol\n",
    "    return cola[0]\n",
    "\n",
    "def generar_codigos_huffman(nodo, codigo=\"\", codigos={}):\n",
    "    if nodo is not None:\n",
    "        if nodo.simbolo is not None:\n",
    "            # Se llegó a una hoja: asignar el código\n",
    "            codigos[nodo.simbolo] = codigo\n",
    "        # Recorrer recursivamente los hijos izquierdo y derecho\n",
    "        generar_codigos_huffman(nodo.izquierda, codigo + \"0\", codigos)\n",
    "        generar_codigos_huffman(nodo.derecha, codigo + \"1\", codigos)\n",
    "\n",
    "    return codigos\n"
   ]
  },
  {
   "cell_type": "code",
   "execution_count": 75,
   "id": "252d27d7",
   "metadata": {},
   "outputs": [
    {
     "name": "stdout",
     "output_type": "stream",
     "text": [
      "['F', 'T', 'C']\n",
      "Símbolo: C, Ciudad: Oslo, Código: 00\n",
      "Símbolo: T, Ciudad: Oslo, Código: 01\n",
      "Símbolo: F, Ciudad: Oslo, Código: 1\n",
      "['F', 'T', 'C']\n",
      "Símbolo: C, Ciudad: Quito, Código: 00\n",
      "Símbolo: T, Ciudad: Quito, Código: 1\n",
      "Símbolo: F, Ciudad: Quito, Código: 01\n",
      "['F', 'T', 'C']\n",
      "Símbolo: C, Ciudad: Melbourne, Código: 01\n",
      "Símbolo: T, Ciudad: Melbourne, Código: 1\n",
      "Símbolo: F, Ciudad: Melbourne, Código: 00\n",
      "[('C', 'Oslo', '00'), ('T', 'Oslo', '01'), ('F', 'Oslo', '1'), ('C', 'Quito', '00'), ('T', 'Quito', '1'), ('F', 'Quito', '01'), ('C', 'Melbourne', '01'), ('T', 'Melbourne', '1'), ('F', 'Melbourne', '00')]\n"
     ]
    }
   ],
   "source": [
    "codificacionLongitud_1= []\n",
    "\n",
    "for df in [oslo, quito, melbourne]:\n",
    "    \n",
    "    simbolos = ['F', 'T', 'C']\n",
    "    probabilidades = distribucion_probabilistica_estacionaria(df)   # Probabilidades de los símbolos F, T y C\n",
    "\n",
    "    # Construir el árbol de Huffman\n",
    "    raiz = construir_arbol_huffman(simbolos, probabilidades)\n",
    "\n",
    "    # Generar los códigos\n",
    "    codigos_huffman = generar_codigos_huffman(raiz)\n",
    "    \n",
    "    # Mostrar los resultados\n",
    "    for simbolo, codigo in codigos_huffman.items():\n",
    "        nombre = \"Oslo\" if df is oslo else \"Quito\" if df is quito else \"Melbourne\"\n",
    "        # Guardar símbolo, ciudad y código en una lista de tuplas\n",
    "        codificacionLongitud_1.append((simbolo, nombre, codigo))\n",
    "        print(f\"Símbolo: {simbolo}, Ciudad: {nombre}, Código: {codigo}\")\n",
    "\n",
    "print(codificacionLongitud_1)            \n"
   ]
  },
  {
   "cell_type": "code",
   "execution_count": 76,
   "id": "259cfb18",
   "metadata": {},
   "outputs": [],
   "source": [
    "def extension_orden_dos(df,matriz):\n",
    "    probabilidades = []\n",
    "    estacionario = distribucion_probabilistica_estacionaria(df)  \n",
    "    for i in range(matriz.shape[0]): \n",
    "        for j in range(matriz.shape[1]):\n",
    "            probabilidades.append(matriz[i][j] * estacionario[i])\n",
    "    return probabilidades             \n"
   ]
  },
  {
   "cell_type": "code",
   "execution_count": 77,
   "id": "b7eca696",
   "metadata": {},
   "outputs": [
    {
     "name": "stdout",
     "output_type": "stream",
     "text": [
      "simbolos limpios: ['FF', 'TF', 'FT', 'TT', 'CT', 'TC', 'CC']\n",
      "Símbolo: CT, Ciudad: Oslo, Código: 000\n",
      "Símbolo: TC, Ciudad: Oslo, Código: 001000\n",
      "Símbolo: FT, Ciudad: Oslo, Código: 001001\n",
      "Símbolo: CC, Ciudad: Oslo, Código: 00101\n",
      "Símbolo: TF, Ciudad: Oslo, Código: 0011\n",
      "Símbolo: TT, Ciudad: Oslo, Código: 01\n",
      "Símbolo: FF, Ciudad: Oslo, Código: 1\n",
      "simbolos limpios: ['FF', 'TF', 'FT', 'TT', 'CT', 'TC']\n",
      "Símbolo: CT, Ciudad: Quito, Código: 0\n",
      "Símbolo: TC, Ciudad: Quito, Código: 10000\n",
      "Símbolo: FT, Ciudad: Quito, Código: 101\n",
      "Símbolo: CC, Ciudad: Quito, Código: 00101\n",
      "Símbolo: TF, Ciudad: Quito, Código: 10001\n",
      "Símbolo: TT, Ciudad: Quito, Código: 11\n",
      "Símbolo: FF, Ciudad: Quito, Código: 1001\n",
      "simbolos limpios: ['FF', 'TF', 'CF', 'FT', 'TT', 'CT', 'FC', 'TC', 'CC']\n",
      "Símbolo: CT, Ciudad: Melbourne, Código: 1100\n",
      "Símbolo: TC, Ciudad: Melbourne, Código: 11011\n",
      "Símbolo: FT, Ciudad: Melbourne, Código: 111\n",
      "Símbolo: CC, Ciudad: Melbourne, Código: 10\n",
      "Símbolo: TF, Ciudad: Melbourne, Código: 11010101\n",
      "Símbolo: TT, Ciudad: Melbourne, Código: 0\n",
      "Símbolo: FF, Ciudad: Melbourne, Código: 1101011\n",
      "Símbolo: FC, Ciudad: Melbourne, Código: 110100\n",
      "Símbolo: CF, Ciudad: Melbourne, Código: 11010100\n"
     ]
    }
   ],
   "source": [
    "def limpiar_simbolos(simbolos,probabilidades):\n",
    "    it = 0\n",
    "    while it < len(probabilidades):\n",
    "        if probabilidades[it] == 0:\n",
    "            simbolos.pop(it)\n",
    "            probabilidades.pop(it)\n",
    "        it+= 1\n",
    "## repetimos codigo porque se bugea el jupyter y no reconoce las funciones definidas anteriormente\n",
    "\n",
    "import heapq  # Módulo para manejar colas de prioridad (heaps)\n",
    "\n",
    "class Nodo:\n",
    "    def __init__(self, simbolo=None, probabilidad=None):\n",
    "        self.simbolo = simbolo\n",
    "        self.probabilidad = probabilidad\n",
    "        self.izquierda = None\n",
    "        self.derecha = None\n",
    "\n",
    "    def __lt__(self, otro):\n",
    "        # Define cómo comparar nodos según su probabilidad\n",
    "        return self.probabilidad < otro.probabilidad\n",
    "\n",
    "def construir_arbol_huffman(simbolos, probabilidades):\n",
    "    # Crear una cola de prioridad con los símbolos y sus probabilidades\n",
    "    cola = [Nodo(s, p) for s, p in zip(simbolos, probabilidades)]\n",
    "    heapq.heapify(cola)\n",
    "    # Construir el árbol de Huffman\n",
    "    while len(cola) > 1:\n",
    "        # Sacar los dos nodos con menor probabilidad\n",
    "        nodo_izq = heapq.heappop(cola)\n",
    "        nodo_der = heapq.heappop(cola)\n",
    "        # Crear un nuevo nodo combinando los dos hijos\n",
    "        nodo_combinado = Nodo(probabilidad=nodo_izq.probabilidad + nodo_der.probabilidad)\n",
    "        nodo_combinado.izquierda = nodo_izq\n",
    "        nodo_combinado.derecha = nodo_der\n",
    "        # Volver a insertar el nodo combinado en la cola\n",
    "        heapq.heappush(cola, nodo_combinado)\n",
    "\n",
    "    # Devolver la raíz del árbol\n",
    "    return cola[0]\n",
    "\n",
    "def generar_codigos_huffman(nodo, codigo=\"\", codigos={}):\n",
    "    if nodo is not None:\n",
    "        if nodo.simbolo is not None:\n",
    "            # Se llegó a una hoja: asignar el código\n",
    "            codigos[nodo.simbolo] = codigo\n",
    "        # Recorrer recursivamente los hijos izquierdo y derecho\n",
    "        generar_codigos_huffman(nodo.izquierda, codigo + \"0\", codigos)\n",
    "        generar_codigos_huffman(nodo.derecha, codigo + \"1\", codigos)\n",
    "\n",
    "    return codigos\n",
    "\n",
    "\n",
    "for df in [oslo, quito, melbourne]:\n",
    "    simbolos = ['FF', 'TF', 'CF', 'FT', 'TT', 'CT', 'FC', 'TC', 'CC']\n",
    "    \n",
    "    if df is oslo:\n",
    "        matriz = distribucion_oslo\n",
    "        nombre = \"Oslo\"\n",
    "    elif df is quito:\n",
    "        matriz = distribucion_quito\n",
    "        nombre = \"Quito\"\n",
    "    else:\n",
    "        nombre = \"Melbourne\"\n",
    "        matriz = distribucion_melbourne\n",
    "\n",
    "    probabilidades = extension_orden_dos(df, matriz)\n",
    "    \n",
    "    limpiar_simbolos(simbolos, probabilidades)\n",
    "    print(f\"simbolos limpios: {simbolos}\")\n",
    "    \n",
    "    # Construir el árbol de Huffman\n",
    "    raiz = construir_arbol_huffman(simbolos, probabilidades)\n",
    "    \n",
    "    # Generar los códigos\n",
    "    codigos_huffman = generar_codigos_huffman(raiz)\n",
    "\n",
    "    # Mostrar los resultados\n",
    "    for simbolo, codigo in codigos_huffman.items():\n",
    "        print(f\"Símbolo: {simbolo}, Ciudad: {nombre}, Código: {codigo}\")\n",
    "    "
   ]
  },
  {
   "cell_type": "code",
   "execution_count": 78,
   "id": "42d7591c",
   "metadata": {},
   "outputs": [],
   "source": [
    "\n",
    "def aplicar_compresion(clima, ciudad):\n",
    "    for simbolo, nombre, codigo in codificacionLongitud_1:\n",
    "        if clima == simbolo and ciudad == nombre:\n",
    "            return codigo\n",
    "    return None  # Si no encuentra el código\n",
    "\n",
    "for df in [oslo, quito, melbourne]:\n",
    "    df_nuevo = df.copy()\n",
    "    nombre_ciudad = \"Oslo\" if df is oslo else \"Quito\" if df is quito else \"Melbourne\"\n",
    "\n",
    "    df_nuevo['codificacion'] = df['Clima'].apply(lambda clima: aplicar_compresion(clima, nombre_ciudad))\n",
    "    df_nuevo = df_nuevo.drop(columns=['Clima', 'AvgTemperature'])\n",
    "    # Guardar el nuevo DataFrame a un archivo CSV\n",
    "    df_nuevo.to_csv(f\"codificacion_{nombre_ciudad}.csv\", index=False)"
   ]
  },
  {
   "cell_type": "code",
   "execution_count": 79,
   "id": "9a04e4ab",
   "metadata": {},
   "outputs": [
    {
     "name": "stdout",
     "output_type": "stream",
     "text": [
      "La tasa de compresión para el dataset de Melbourne 34kb antes y ahora 20kb es de 1.72\n",
      "La tasa de compresión para el dataset de quito 34kb antes y ahora 17kb es de 1.99\n",
      "La tasa de compresión para el dataset de oslo 33kb antes y ahora 19kb es de 1.72\n"
     ]
    }
   ],
   "source": [
    "import os\n",
    "\n",
    "def calcular_tasa_compresion(nombre_archivo_original, nombre_archivo_codificado, ciudad):\n",
    "    size_original = os.path.getsize(nombre_archivo_original) / 1024  # KB\n",
    "    size_codificado = os.path.getsize(nombre_archivo_codificado) / 1024  # KB\n",
    "    tasa = round(size_original / size_codificado, 2)\n",
    "    print(f\"La tasa de compresión para el dataset de {ciudad} {size_original:.0f}kb antes y ahora {size_codificado:.0f}kb es de {tasa}\")\n",
    "\n",
    "\n",
    "calcular_tasa_compresion(\"temperature_Melbourne_celsius.csv\", \"codificacion_melbourne.csv\", \"Melbourne\")\n",
    "calcular_tasa_compresion(\"temperature_Quito_celsius.csv\", \"codificacion_quito.csv\", \"quito\")\n",
    "calcular_tasa_compresion(\"temperature_Oslo_celsius.csv\", \"codificacion_oslo.csv\", \"oslo\")"
   ]
  },
  {
   "cell_type": "markdown",
   "id": "8e88d447",
   "metadata": {},
   "source": [
    "#### ej4\n"
   ]
  },
  {
   "cell_type": "code",
   "execution_count": 104,
   "id": "53cd9e58",
   "metadata": {},
   "outputs": [
    {
     "data": {
      "text/html": [
       "<div>\n",
       "<style scoped>\n",
       "    .dataframe tbody tr th:only-of-type {\n",
       "        vertical-align: middle;\n",
       "    }\n",
       "\n",
       "    .dataframe tbody tr th {\n",
       "        vertical-align: top;\n",
       "    }\n",
       "\n",
       "    .dataframe thead th {\n",
       "        text-align: right;\n",
       "    }\n",
       "</style>\n",
       "<table border=\"1\" class=\"dataframe\">\n",
       "  <thead>\n",
       "    <tr style=\"text-align: right;\">\n",
       "      <th>Clima</th>\n",
       "      <th>F</th>\n",
       "      <th>C</th>\n",
       "      <th>T</th>\n",
       "    </tr>\n",
       "    <tr>\n",
       "      <th>Clima</th>\n",
       "      <th></th>\n",
       "      <th></th>\n",
       "      <th></th>\n",
       "    </tr>\n",
       "  </thead>\n",
       "  <tbody>\n",
       "    <tr>\n",
       "      <th>F</th>\n",
       "      <td>0.610000</td>\n",
       "      <td>0.000000</td>\n",
       "      <td>0.390000</td>\n",
       "    </tr>\n",
       "    <tr>\n",
       "      <th>C</th>\n",
       "      <td>0.000000</td>\n",
       "      <td>0.756978</td>\n",
       "      <td>0.243022</td>\n",
       "    </tr>\n",
       "    <tr>\n",
       "      <th>T</th>\n",
       "      <td>0.139669</td>\n",
       "      <td>0.185661</td>\n",
       "      <td>0.674670</td>\n",
       "    </tr>\n",
       "  </tbody>\n",
       "</table>\n",
       "</div>"
      ],
      "text/plain": [
       "Clima         F         C         T\n",
       "Clima                              \n",
       "F      0.610000  0.000000  0.390000\n",
       "C      0.000000  0.756978  0.243022\n",
       "T      0.139669  0.185661  0.674670"
      ]
     },
     "execution_count": 104,
     "metadata": {},
     "output_type": "execute_result"
    }
   ],
   "source": [
    "melbourneRiudoso = pd.read_csv(\"temperature_Melbourne_celsius_ruidoso.csv\", delimiter=\";\")\n",
    "melbourneRiudoso['Clima'] = melbourneRiudoso[columna_temperatura].apply(clasificar_temperatura)\n",
    "\n",
    "canal = pd.crosstab(melbourne['Clima'],melbourneRiudoso['Clima'],  normalize='index')\n",
    "\n",
    "# Reordena filas y columnas a ['F', 'C', 'T']\n",
    "canal = canal.reindex(index=['F', 'C', 'T'], columns=['F', 'C', 'T'])\n",
    "canal\n"
   ]
  },
  {
   "cell_type": "markdown",
   "id": "057897f1",
   "metadata": {},
   "source": [
    "#### Estabilidad en \"C\": El estado \"C\" tiene una alta probabilidad (75%) de mantenerse como \"C\", aunque un 25% de las veces se transforma en \"T\". No hay cambios hacia \"F\", lo que indica que el ruido no introduce transición hacia calor desde frío.\n",
    "\n",
    "#### Ruido en \"F\": Aunque \"F\" se mantiene en el mismo estado el 69% de las veces, hay un 39% de probabilidad de que pase a \"T\". Es interesante notar que nunca cambia a \"C\", lo que sugiere que el ruido tiende a mover las temperaturas cálidas hacia templadas, pero no hacia frías.\n",
    "\n",
    "#### Inestabilidad en \"T\": El estado \"T\" es el más afectado por el ruido, con una probabilidad del 67% de mantenerse en \"T\", pero con un 20% de transición hacia \"C\" y un 13% hacia \"F\". Esto sugiere que los valores templados sufren más fluctuaciones por el ruido, moviéndose tanto hacia frío como hacia calor.\n"
   ]
  },
  {
   "cell_type": "markdown",
   "id": "8bcd18d4",
   "metadata": {},
   "source": []
  },
  {
   "cell_type": "code",
   "execution_count": 105,
   "id": "0545c31c",
   "metadata": {},
   "outputs": [
    {
     "name": "stdout",
     "output_type": "stream",
     "text": [
      "Ruido del canal (H(Y|X)) = 1.0236\n"
     ]
    }
   ],
   "source": [
    "\n",
    "#  cuenta P(X)\n",
    "#  normalize=True hace que los conteos se conviertan en proporciones (probabilidades), reindex reordena las filas según el índice del canal\n",
    "entrada_probs = melbourne['Clima'].value_counts(normalize=True).reindex(canal.index)\n",
    "\n",
    "def entropia_fila(probs_fila):\n",
    "    return -np.sum([p * np.log2(p) for p in probs_fila if p > 0])\n",
    "\n",
    "# 4. Calcular H(Y|X)\n",
    "ruido = sum(\n",
    "    entrada_probs[x] * entropia_fila(canal.loc[x])\n",
    "    for x in canal.index\n",
    ")\n",
    "\n",
    "print(f\"Ruido del canal (H(Y|X)) = {ruido:.4f}\")    \n",
    "\n",
    "\n"
   ]
  },
  {
   "cell_type": "code",
   "execution_count": 107,
   "id": "9df3575f",
   "metadata": {},
   "outputs": [
    {
     "name": "stdout",
     "output_type": "stream",
     "text": [
      "Información mutua I(X;Y) = 0.3260\n"
     ]
    }
   ],
   "source": [
    "salida_probs = melbourneRiudoso['Clima'].value_counts(normalize=True)\n",
    "\n",
    "H_Y = entropia_fila(salida_probs)\n",
    "\n",
    "informacion_mutua = H_Y - ruido\n",
    "print(f\"Información mutua I(X;Y) = {informacion_mutua:.4f}\")"
   ]
  }
 ],
 "metadata": {
  "kernelspec": {
   "display_name": "teoria",
   "language": "python",
   "name": "python3"
  },
  "language_info": {
   "codemirror_mode": {
    "name": "ipython",
    "version": 3
   },
   "file_extension": ".py",
   "mimetype": "text/x-python",
   "name": "python",
   "nbconvert_exporter": "python",
   "pygments_lexer": "ipython3",
   "version": "3.12.5"
  }
 },
 "nbformat": 4,
 "nbformat_minor": 5
}
