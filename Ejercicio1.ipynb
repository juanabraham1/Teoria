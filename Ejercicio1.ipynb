{
 "cells": [
  {
   "cell_type": "code",
   "execution_count": 54,
   "id": "687d5528",
   "metadata": {},
   "outputs": [],
   "source": [
    "import pandas as pd\n",
    "\n",
    "melbourne = pd.read_csv(\"temperature_Melbourne_celsius.csv\", delimiter=\";\")\n",
    "oslo = pd.read_csv(\"temperature_Oslo_celsius.csv\", delimiter=\";\")\n",
    "quito = pd.read_csv(\"temperature_Quito_celsius.csv\", delimiter=\";\")"
   ]
  },
  {
   "cell_type": "markdown",
   "id": "67439660",
   "metadata": {},
   "source": [
    "# Ejercicio 1A"
   ]
  },
  {
   "cell_type": "code",
   "execution_count": 55,
   "id": "26990d09",
   "metadata": {},
   "outputs": [
    {
     "name": "stdout",
     "output_type": "stream",
     "text": [
      "Media de Melbourne: 17.53°C\n",
      "Media de Oslo: 4.61°C\n",
      "Media de Quito: 13.60°C\n",
      "Desvío estándar de Melbourne: 6.48°C\n",
      "Desvío estándar de Oslo: 9.46°C\n",
      "Desvío estándar de Quito: 1.30°C\n"
     ]
    }
   ],
   "source": [
    "# Asegurar que la columna de temperatura sea la correcta\n",
    "columna_temperatura = \"AvgTemperature\"  # Cambia esto según el nombre de la columna en los archivos\n",
    "\n",
    "# Calcular la media y desviación estándar\n",
    "media_melbourne = melbourne[columna_temperatura].mean()\n",
    "media_oslo = oslo[columna_temperatura].mean()\n",
    "media_quito = quito[columna_temperatura].mean()\n",
    "\n",
    "desvio_melbourne = melbourne[columna_temperatura].std()\n",
    "desvio_oslo = oslo[columna_temperatura].std()\n",
    "desvio_quito = quito[columna_temperatura].std()\n",
    "\n",
    "# Mostrar los resultados con formato mejorado\n",
    "print(f\"Media de Melbourne: {media_melbourne:.2f}°C\")\n",
    "print(f\"Media de Oslo: {media_oslo:.2f}°C\")\n",
    "print(f\"Media de Quito: {media_quito:.2f}°C\")\n",
    "\n",
    "print(f\"Desvío estándar de Melbourne: {desvio_melbourne:.2f}°C\")\n",
    "print(f\"Desvío estándar de Oslo: {desvio_oslo:.2f}°C\")\n",
    "print(f\"Desvío estándar de Quito: {desvio_quito:.2f}°C\")"
   ]
  },
  {
   "cell_type": "markdown",
   "id": "ee5733bb",
   "metadata": {},
   "source": [
    "### 1 -B"
   ]
  },
  {
   "cell_type": "code",
   "execution_count": 56,
   "id": "0987a39f",
   "metadata": {},
   "outputs": [
    {
     "name": "stdout",
     "output_type": "stream",
     "text": [
      "Correlación entre Oslo y Melbourne: 624455.00\n",
      "Correlación entre Oslo y Quito: 376918.00\n",
      "Correlación entre quito y Melbourne: 1393015.00\n"
     ]
    }
   ],
   "source": [
    "from scipy.signal import correlate\n",
    "import numpy as np\n",
    "\n",
    "x = oslo[columna_temperatura].values\n",
    "y = melbourne[columna_temperatura].values\n",
    "\n",
    "corr = correlate(x, y, mode='full')\n",
    "print(f\"Correlación entre Oslo y Melbourne: {corr.max():.2f}\")\n",
    "\n",
    "x = oslo[columna_temperatura].values\n",
    "y = quito[columna_temperatura].values\n",
    "\n",
    "corr = correlate(x, y, mode='full')\n",
    "print(f\"Correlación entre Oslo y Quito: {corr.max():.2f}\")\n",
    "\n",
    "x = quito[columna_temperatura].values\n",
    "y = melbourne[columna_temperatura].values\n",
    "\n",
    "corr = correlate(x, y, mode='full')\n",
    "print(f\"Correlación entre quito y Melbourne: {corr.max():.2f}\")\n"
   ]
  },
  {
   "cell_type": "markdown",
   "id": "aec38320",
   "metadata": {},
   "source": [
    "Analizando los resultados obtenidos observamos que entre oslo y cualquir otra ciudad no hay tremperatura climatica similar, en cambio entre Quito y Merburne hay una mayor correlacion por lo que hay una similitud, lo cual tiene sentido observando las medias.\n",
    "\n",
    "## 2.\n",
    "### Considerando los valores de temperatura t que componen cada señal Si, construir una nueva señal Ti  compuesta por una secuencia de símbolos discretos F, T o C, definidos según: "
   ]
  },
  {
   "cell_type": "code",
   "execution_count": null,
   "id": "eca810c4",
   "metadata": {},
   "outputs": [],
   "source": [
    "\n",
    "def clasificar_temperatura(t):\n",
    "    if t < 11:\n",
    "        return 'F'\n",
    "    elif t < 19:\n",
    "        return 'T'\n",
    "    else:\n",
    "        return 'C'\n",
    "\n",
    "for df in [oslo, quito, melbourne]:\n",
    "    df['Clima'] = df[columna_temperatura].apply(clasificar_temperatura)\n",
    "\n"
   ]
  },
  {
   "cell_type": "markdown",
   "id": "63360038",
   "metadata": {},
   "source": [
    "#### Parte 1"
   ]
  },
  {
   "cell_type": "code",
   "execution_count": null,
   "id": "9c660bba",
   "metadata": {},
   "outputs": [
    {
     "name": "stdout",
     "output_type": "stream",
     "text": [
      "Distribución de probabilidad de Oslo:\n",
      "[[0.959 0.099 0.   ]\n",
      " [0.041 0.865 0.296]\n",
      " [0.    0.035 0.704]]\n",
      "--------------------------------------------\n",
      "Distribución de probabilidad de Quito:\n",
      "[[0.054 0.006 0.   ]\n",
      " [0.946 0.993 1.   ]\n",
      " [0.    0.001 0.   ]]\n",
      "--------------------------------------------\n",
      "Distribución de probabilidad de Melbourne:\n",
      "[[0.47  0.033 0.003]\n",
      " [0.495 0.836 0.144]\n",
      " [0.035 0.131 0.853]]\n"
     ]
    }
   ],
   "source": [
    "def contar_climas(df):\n",
    "    conteo = df['Clima'].value_counts()\n",
    "    f =  conteo.get('F', 0) \n",
    "    t = conteo.get('T', 0)\n",
    "    c =  conteo.get('C', 0)\n",
    "    return f, t, c\n",
    "\n",
    "f_oslo, t_oslo, c_oslo = contar_climas(oslo)\n",
    "f_quito, t_quito, c_quito = contar_climas(quito)\n",
    "f_melbourne, t_melbourne, c_melbourne = contar_climas(melbourne)\n",
    "\n",
    "def contar_transiciones(df, origen):\n",
    "    \"\"\"\n",
    "    Cuenta cuántas veces después de 'origen' aparece cada letra ('F', 'T', 'C') en la columna 'Clima' del DataFrame.\n",
    "    Retorna un diccionario con el conteo de transiciones.\n",
    "    \"\"\"\n",
    "    clima = df['Clima'].values\n",
    "    transiciones = {'F': 0, 'T': 0, 'C': 0}\n",
    "    for i in range(len(clima) - 1):\n",
    "        if clima[i] == origen:\n",
    "            siguiente = clima[i + 1]\n",
    "            if siguiente in transiciones:\n",
    "                transiciones[siguiente] += 1\n",
    "    return transiciones\n",
    "\n",
    "def distribucion_probabilidad(df,f, t, c):\n",
    "    matriz = [[0,0,0],\n",
    "            [0,0,0],\n",
    "            [0,0,0]]\n",
    "    i = 0\n",
    "    for l in ['F', 'T', 'C']:\n",
    "        transiciones = contar_transiciones(df, l)\n",
    "        matriz[i][0] = round(transiciones['F']/f, 3)\n",
    "        matriz[i][1] = round(transiciones['T']/t, 3)\n",
    "        matriz[i][2] = round(transiciones['C']/c, 3)\n",
    "        i += 1\n",
    "    return np.array(matriz)   \n",
    "\n",
    "distribucion_oslo = distribucion_probabilidad(oslo, f_oslo, t_oslo, c_oslo)\n",
    "distribucion_quito = distribucion_probabilidad(quito, f_quito, t_quito, c_quito)\n",
    "distribucion_melbourne = distribucion_probabilidad(melbourne, f_melbourne, t_melbourne, c_melbourne)\n",
    "\n",
    "print(\"Distribución de probabilidad de Oslo:\")\n",
    "print(distribucion_oslo)\n",
    "print(\"--------------------------------------------\")\n",
    "print(\"Distribución de probabilidad de Quito:\")\n",
    "print(distribucion_quito)\n",
    "print(\"--------------------------------------------\")\n",
    "print(\"Distribución de probabilidad de Melbourne:\")\n",
    "print(distribucion_melbourne)\n"
   ]
  },
  {
   "cell_type": "markdown",
   "id": "c8da236d",
   "metadata": {},
   "source": [
    "#### Parte 2"
   ]
  },
  {
   "cell_type": "code",
   "execution_count": 107,
   "id": "cb1e132b",
   "metadata": {},
   "outputs": [
    {
     "name": "stdout",
     "output_type": "stream",
     "text": [
      "[0.27439542 0.27251125 0.27277144]\n"
     ]
    }
   ],
   "source": [
    "import numpy as np\n",
    "\n",
    "def distribucion_probabilistica_estacionaria(matriz, origen, tolerance=100, atol=1e-6):\n",
    "    res = np.dot(origen, matriz)\n",
    "    \n",
    "    while not np.allclose(res, origen, atol=atol) and tolerance > 0:\n",
    "        origen = res\n",
    "        res = np.dot(origen, matriz)\n",
    "        tolerance -= 1\n",
    "\n",
    "    return res\n",
    "\n",
    "distribucion_estacionaria_oslo = distribucion_probabilistica_estacionaria(distribucion_oslo, [0, 1, 0])\n",
    "print(distribucion_estacionaria_oslo)\n"
   ]
  },
  {
   "cell_type": "code",
   "execution_count": null,
   "id": "8223c77e",
   "metadata": {},
   "outputs": [],
   "source": []
  }
 ],
 "metadata": {
  "kernelspec": {
   "display_name": "teoria",
   "language": "python",
   "name": "python3"
  },
  "language_info": {
   "codemirror_mode": {
    "name": "ipython",
    "version": 3
   },
   "file_extension": ".py",
   "mimetype": "text/x-python",
   "name": "python",
   "nbconvert_exporter": "python",
   "pygments_lexer": "ipython3",
   "version": "3.12.5"
  }
 },
 "nbformat": 4,
 "nbformat_minor": 5
}
